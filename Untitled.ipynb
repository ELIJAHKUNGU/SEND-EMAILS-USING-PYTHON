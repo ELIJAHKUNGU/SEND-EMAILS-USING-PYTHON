{
 "cells": [
  {
   "cell_type": "markdown",
   "metadata": {},
   "source": [
    "import pandas as pd\n",
    "import smtplib\n",
    "\n"
   ]
  },
  {
   "cell_type": "code",
   "execution_count": 1,
   "metadata": {},
   "outputs": [],
   "source": [
    "import pandas as pd\n",
    "import smtplib"
   ]
  },
  {
   "cell_type": "code",
   "execution_count": 2,
   "metadata": {
    "scrolled": true
   },
   "outputs": [
    {
     "name": "stdout",
     "output_type": "stream",
     "text": [
      "                      Emails\n",
      "0   elijahkungu100@gmail.com\n",
      "1        cursorhub@gmail.com\n",
      "2  joshuandeleva90@gmail.com\n"
     ]
    }
   ],
   "source": [
    "e = pd.read_excel (r'email.xlsx');\n",
    "print(e);"
   ]
  },
  {
   "cell_type": "code",
   "execution_count": 3,
   "metadata": {},
   "outputs": [
    {
     "data": {
      "text/plain": [
       "(221, b'2.0.0 closing connection n23sm18825375wra.71 - gsmtp')"
      ]
     },
     "execution_count": 3,
     "metadata": {},
     "output_type": "execute_result"
    }
   ],
   "source": [
    "SenderAddress = \"elijahkungu100@gmail.com\"\n",
    "password = \"0743770216\";\n",
    "\n",
    "emails = e['Emails'].values\n",
    "server = smtplib.SMTP(\"smtp.gmail.com\", 587)\n",
    "server.starttls()\n",
    "server.login(SenderAddress, password)\n",
    "msg = \"Hello this is a email form python\"\n",
    "subject = \"Hello world\"\n",
    "body = \"Subject: {}\\n\\n{}\".format(subject,msg)\n",
    "for email in emails:\n",
    "    server.sendmail(SenderAddress, email, body)\n",
    "server.quit()"
   ]
  },
  {
   "cell_type": "code",
   "execution_count": null,
   "metadata": {},
   "outputs": [],
   "source": []
  }
 ],
 "metadata": {
  "kernelspec": {
   "display_name": "Python 3",
   "language": "python",
   "name": "python3"
  },
  "language_info": {
   "codemirror_mode": {
    "name": "ipython",
    "version": 3
   },
   "file_extension": ".py",
   "mimetype": "text/x-python",
   "name": "python",
   "nbconvert_exporter": "python",
   "pygments_lexer": "ipython3",
   "version": "3.8.5"
  }
 },
 "nbformat": 4,
 "nbformat_minor": 4
}
